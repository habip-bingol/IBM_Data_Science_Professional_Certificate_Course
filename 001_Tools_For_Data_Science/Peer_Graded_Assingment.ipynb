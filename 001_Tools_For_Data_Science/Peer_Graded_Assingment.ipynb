{
 "cells": [
  {
   "cell_type": "markdown",
   "id": "5d72625b",
   "metadata": {},
   "source": [
    "# Data Science Tools and Ecosystem"
   ]
  },
  {
   "cell_type": "markdown",
   "id": "41e67a9a",
   "metadata": {},
   "source": [
    "In this notebook, Data Science Tools and Ecosystem are summarized.\n"
   ]
  },
  {
   "cell_type": "markdown",
   "id": "4435c1f8",
   "metadata": {},
   "source": [
    "Some of the popular languages that Data Scientists use are:\n",
    "\n",
    "1. Python\n",
    "2. R\n",
    "3. SQL"
   ]
  },
  {
   "cell_type": "markdown",
   "id": "b32f9d2e",
   "metadata": {},
   "source": [
    "Some of the commonly used libraries used by Data Scientists include:\n",
    "1. Pandas\n",
    "2. Numpy\n",
    "3. Matplotlib\n",
    "4. Seaborn\n"
   ]
  },
  {
   "cell_type": "markdown",
   "id": "24e9f6da",
   "metadata": {},
   "source": [
    "|Data Science Tools|\n",
    "|------------------|\n",
    "|Jupyter|\n",
    "|Git-Github|\n",
    "|RStudio|"
   ]
  },
  {
   "cell_type": "markdown",
   "id": "2402f471",
   "metadata": {},
   "source": [
    "### Below are a few examples of evaluating arithmetic expressions in Python.\n",
    "- +\n",
    "- -\n",
    "- & \n",
    "- |"
   ]
  },
  {
   "cell_type": "code",
   "execution_count": 1,
   "id": "fdf73ba9",
   "metadata": {
    "ExecuteTime": {
     "end_time": "2023-04-29T09:36:48.072120Z",
     "start_time": "2023-04-29T09:36:48.060111Z"
    }
   },
   "outputs": [
    {
     "data": {
      "text/plain": [
       "17"
      ]
     },
     "execution_count": 1,
     "metadata": {},
     "output_type": "execute_result"
    }
   ],
   "source": [
    "# This a simple arithmetic expression to mutiply then add integers\n",
    "(3*4)+5"
   ]
  },
  {
   "cell_type": "code",
   "execution_count": 2,
   "id": "3d974ea4",
   "metadata": {
    "ExecuteTime": {
     "end_time": "2023-04-29T09:37:59.387286Z",
     "start_time": "2023-04-29T09:37:59.377199Z"
    }
   },
   "outputs": [
    {
     "data": {
      "text/plain": [
       "3.3333333333333335"
      ]
     },
     "execution_count": 2,
     "metadata": {},
     "output_type": "execute_result"
    }
   ],
   "source": [
    "# This will convert 200 minutes to hours by diving by 60\n",
    "200/60"
   ]
  },
  {
   "cell_type": "markdown",
   "id": "2203485c",
   "metadata": {},
   "source": [
    "**Objectives:**\n",
    "- Expertize in Python for Data Science\n",
    "- Gain some information in R\n",
    "- Learn in Git and Github\n",
    "\n",
    "__List popular languages for Data Science:__\n",
    "- Python\n",
    "-  R\n",
    "-  SQL"
   ]
  },
  {
   "cell_type": "markdown",
   "id": "f8b7ecaa",
   "metadata": {},
   "source": [
    "## Author \n",
    "Habip Bingol"
   ]
  },
  {
   "cell_type": "code",
   "execution_count": null,
   "id": "9611e8c9",
   "metadata": {},
   "outputs": [],
   "source": []
  },
  {
   "cell_type": "code",
   "execution_count": null,
   "id": "61eb7a12",
   "metadata": {},
   "outputs": [],
   "source": []
  }
 ],
 "metadata": {
  "hide_input": false,
  "kernelspec": {
   "display_name": "Python 3 (ipykernel)",
   "language": "python",
   "name": "python3"
  },
  "language_info": {
   "codemirror_mode": {
    "name": "ipython",
    "version": 3
   },
   "file_extension": ".py",
   "mimetype": "text/x-python",
   "name": "python",
   "nbconvert_exporter": "python",
   "pygments_lexer": "ipython3",
   "version": "3.9.12"
  },
  "toc": {
   "base_numbering": 1,
   "nav_menu": {},
   "number_sections": true,
   "sideBar": true,
   "skip_h1_title": false,
   "title_cell": "Table of Contents",
   "title_sidebar": "Contents",
   "toc_cell": false,
   "toc_position": {},
   "toc_section_display": true,
   "toc_window_display": false
  }
 },
 "nbformat": 4,
 "nbformat_minor": 5
}
